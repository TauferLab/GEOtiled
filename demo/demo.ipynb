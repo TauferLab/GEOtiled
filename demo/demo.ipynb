{
 "cells": [
  {
   "cell_type": "markdown",
   "id": "e00452bb-dfed-4e67-8e4f-25a850d98300",
   "metadata": {},
   "source": [
    "# GEOtiled Demo: A Scalable Workflow for Generating Large Datasets of High-Resolution Terrain Parameters\n",
    "\n",
    "The GEOtiled workflow is comprised of three stages: \n",
    "1. Reproject and partition a Digital Elevation Model (DEM) into tiles, each with a buffer region\n",
    "2. Compute the terrain parameters for each individual tile concurrently\n",
    "3. Mosaic each parameter's tiles together\n",
    "\n",
    "<p style=\"text-align:center\">\n",
    "    <img src=\"demo_images/workflow.png\" width=\"500\"/>\n",
    "</p>\n",
    "<p style=\"text-align:center\">\n",
    "    <b>Figure 1. </b>GEOtiled Workflow\n",
    "</p>\n",
    "    \n",
    "Terrain parameters are computed using DEMs from [USGS 3DEP Products](https://www.usgs.gov/3d-elevation-program/about-3dep-products-services) to compute 3 topographic parameters: aspect, hillshade, and slope. By default, this demo uses 3DEP products covering the entirety of the US state of Tennessee at a 30m resolution.\n",
    "\n",
    "If you would like to work with a different region of data, go to the [USGS Data Download Application](https://apps.nationalmap.gov/downloader/#/elevation) and use the map to look for available DEM data. Data should be downloaded using the TXT button located under the *Products* tab, and the text file should be stored in your working directory.\n",
    "\n",
    "**IMPORTANT NOTE: Larger regions or higher resolutions will significantly increase the size of the data and the time to compute it.** "
   ]
  },
  {
   "cell_type": "markdown",
   "id": "41ca43c0-4b86-471e-a7ca-400dfcab5ba0",
   "metadata": {},
   "source": [
    "## Environment Setup\n",
    "\n",
    "The first cell below imports required libraries to run the notebook."
   ]
  },
  {
   "cell_type": "code",
   "execution_count": 1,
   "id": "e71c9023-bfcc-4511-9847-4c9bdeae5b92",
   "metadata": {},
   "outputs": [],
   "source": [
    "# DO NOT MODIFY: Import libraries used to run notebook\n",
    "import geotiled\n",
    "\n",
    "geotiled.gdal.UseExceptions() # Used to silence a deprecation warning. "
   ]
  },
  {
   "cell_type": "markdown",
   "id": "2c46b454-4bd0-4d6f-914b-dd7350147745",
   "metadata": {},
   "source": [
    "### Settings\n",
    "\n",
    "In the following cell you may specify variables such as what data to download, the number of intermediary tiles to use for computation, and the file path where data will be stored. Comments for what each variable is for is included.\n",
    "\n",
    "**Important Notes**\n",
    "* For DEM download, three different methods are available: from a text file with a list of USGS download links, based off a shape file, or a specified latitude and longitude box\n",
    "  * A text file from the USGS page should be stored in the working directory or child directory\n",
    "  * Shape files are available for all US states and Washington DC. For the shapefile variable, specify the state abbreviation to use the correlating shapefile (e.g. TN for Tennessee)\n",
    "  * A bounding box can be specified using the following syntax: {\"xmin\": val,\"ymin\": val,\"xmax\": val,\"ymax\": val}. X values correlate to longitude and Y values correlate to latitude"
   ]
  },
  {
   "cell_type": "code",
   "execution_count": 2,
   "id": "965ecc7c-ff92-4943-b2e1-edec99a14104",
   "metadata": {},
   "outputs": [],
   "source": [
    "download_list = 'download_urls'                                         # Name of file to store DEM download URLs\n",
    "bounding_box = {\"xmin\": -90.4,\"ymin\": 34.8,\"xmax\": -81.55,\"ymax\": 36.8} # Bounding box to use for DEM download\n",
    "shape_file = 'TN'                                                       # Shape file to use for DEM download and image cropping\n",
    "num_tiles = 16                                                          # Number of tiles to split the DEM mosaic into\n",
    "\n",
    "data_folder = './geotiled_data/'                                        # Root folder where GEOtiled data will be stored\n",
    "geotiled.set_data_directory(data_folder)                                # Sets the directory to store data in"
   ]
  },
  {
   "cell_type": "markdown",
   "id": "30c1811a-89c2-44b7-a333-e6bd52c86c33",
   "metadata": {},
   "source": [
    "## Pre-processing of the DEM\n",
    "\n",
    "### Fetch Data\n",
    "\n",
    "`fetch_dem()` pulls DEM data directly from the USGS webpage with a specified shape file or bounding box and a desired dataset. It will return a text file with the download URLs which can be saved or immediately downloaded from. **Note that if both a shape file and bounding box are given, the shape file will take precedent.**\n",
    "\n",
    "`download_files()` downloads the DEMs from a supplied text file with URLs or a Python list of strings containing the URLs. If you would like to use your own text file to download DEMs, skip `fetch_dem()` and only run this function."
   ]
  },
  {
   "cell_type": "code",
   "execution_count": 3,
   "id": "35c9cc1d-6854-4f61-a174-21c64e330d69",
   "metadata": {},
   "outputs": [
    {
     "name": "stdout",
     "output_type": "stream",
     "text": [
      "Setting boundary extents...\n",
      "Requesting data from USGS...\n",
      "Saving URLs to text file...\n",
      "Fetch process complete.\n"
     ]
    },
    {
     "name": "stderr",
     "output_type": "stream",
     "text": [
      "Downloading: 100%|\u001b[32m██████████████████████████████████████████████\u001b[0m| 1.72G/1.72G [00:14<00:00, 119MB/s]\u001b[0m\n"
     ]
    }
   ],
   "source": [
    "# Create a text file with download URLs from a shape file\n",
    "geotiled.fetch_dem(bbox=bounding_box, txt_file=download_list, dataset=\"30m\")\n",
    "\n",
    "# Download files from the created text file\n",
    "geotiled.download_files(download_list, 'dem_tiles')"
   ]
  },
  {
   "cell_type": "markdown",
   "id": "32fe35c4-d736-43cb-bd17-6c008e16fdc3",
   "metadata": {},
   "source": [
    "### Mosaic and Reproject DEMs\n",
    "\n",
    "`build_mosaic` creates a mosaic from a list of GeoTIFF files.\n",
    "\n",
    "`reproject` reprojects a specified GeoTIFF raster dataset from its original coordinate system to a new specified projection. DEMs from USGS are projected using the Global Coordinate System (GCS) by default."
   ]
  },
  {
   "cell_type": "code",
   "execution_count": 5,
   "id": "a6e03f4f-1745-4e00-9fcf-ca85782a1ecd",
   "metadata": {},
   "outputs": [
    {
     "name": "stdout",
     "output_type": "stream",
     "text": [
      "Getting input files...\n",
      "Constructing VRT...\n",
      "Updating band description...\n",
      "Cleaning intermediary files...\n",
      "Mosaic process complete.\n",
      "Reprojecting mosaic.tif...\n",
      "Cleaning intermediary files...\n",
      "Reprojection process complete.\n"
     ]
    }
   ],
   "source": [
    "# Build mosaic from DEMs\n",
    "geotiled.build_mosaic(input_folder='dem_tiles', output_file='mosaic', description='Elevation', cleanup=True)\n",
    "\n",
    "# Reproject the mosaic to Projected Coordinate System (PCS) EPSG:9822 - Albers Conic Equal Area projection \n",
    "geotiled.reproject(input_file='mosaic', output_file='elevation', projection='EPSG:9822', cleanup=True)"
   ]
  },
  {
   "cell_type": "markdown",
   "id": "630a6c94-7822-46ba-af13-49e7927f3b16",
   "metadata": {},
   "source": [
    "## Compute Parameters with GEOtiled\n",
    "\n",
    "`crop_into_tiles()` splits a GeoTIFF file into a specified number of tiles.\n",
    "\n",
    "`compute_geotiled()` concurrently computes terrain parameters slope, aspect, and hillshading for all provided elevation model files.\n",
    "\n",
    "`build_mosaic_filtered()` is similar to `build_mosaic()` but includes extra logic to handle averaging of buffer regions made from cropping the mosaic."
   ]
  },
  {
   "cell_type": "code",
   "execution_count": 6,
   "id": "5a4e46e8-0ffa-442d-8ebd-9b3765cbc78c",
   "metadata": {},
   "outputs": [
    {
     "name": "stdout",
     "output_type": "stream",
     "text": [
      "tile_0000.tif cropped.\n",
      "tile_0001.tif cropped.\n",
      "tile_0002.tif cropped.\n",
      "tile_0003.tif cropped.\n",
      "tile_0004.tif cropped.\n",
      "tile_0005.tif cropped.\n",
      "tile_0006.tif cropped.\n",
      "tile_0007.tif cropped.\n",
      "tile_0008.tif cropped.\n",
      "tile_0009.tif cropped.\n",
      "tile_0010.tif cropped.\n",
      "tile_0011.tif cropped.\n",
      "tile_0012.tif cropped.\n",
      "tile_0013.tif cropped.\n",
      "tile_0014.tif cropped.\n",
      "tile_0015.tif cropped.\n"
     ]
    }
   ],
   "source": [
    "# Crop reprojected mosaic into specified number of intermediary elevation tiles\n",
    "geotiled.crop_into_tiles(input_file='elevation', output_folder='elevation_tiles', num_tiles=num_tiles)"
   ]
  },
  {
   "cell_type": "code",
   "execution_count": 7,
   "id": "5a2e9ab3-325b-4978-a6dc-bc50e6d9c9de",
   "metadata": {},
   "outputs": [
    {
     "name": "stdout",
     "output_type": "stream",
     "text": [
      "Getting input files...\n",
      "Starting computation of parameters...\n",
      "All parameters for tile_0012.tif computed.\n",
      "All parameters for tile_0003.tif computed.\n",
      "All parameters for tile_0008.tif computed.\n",
      "All parameters for tile_0007.tif computed.\n",
      "All parameters for tile_0002.tif computed.\n",
      "All parameters for tile_0013.tif computed.\n",
      "All parameters for tile_0011.tif computed.\n",
      "All parameters for tile_0004.tif computed.\n",
      "All parameters for tile_0015.tif computed.\n",
      "All parameters for tile_0000.tif computed.\n",
      "All parameters for tile_0006.tif computed.\n",
      "All parameters for tile_0009.tif computed.\n",
      "All parameters for tile_0014.tif computed.\n",
      "All parameters for tile_0001.tif computed.\n",
      "All parameters for tile_0010.tif computed.\n",
      "All parameters for tile_0005.tif computed.\n",
      "Cleaning files...\n",
      "GEOtiled computation completed.\n"
     ]
    }
   ],
   "source": [
    "# Run GEOtiled to compute all terrain parameters for each cropped tile\n",
    "geotiled.compute_geotiled(input_folder='elevation_tiles', num_procs=num_tiles, cleanup=True)"
   ]
  },
  {
   "cell_type": "code",
   "execution_count": 8,
   "id": "7d7dc3a1-d831-45c0-8fe5-04d0397cd2c7",
   "metadata": {},
   "outputs": [
    {
     "name": "stdout",
     "output_type": "stream",
     "text": [
      "Mosaicking started for aspect.tif...\n",
      "Building VRT...\n",
      "Averaging buffer values...\n",
      "Cleaning files...\n",
      "Mosaic process completed.\n",
      "Mosaicking started for hillshade.tif...\n",
      "Building VRT...\n",
      "Averaging buffer values...\n",
      "Cleaning files...\n",
      "Mosaic process completed.\n",
      "Mosaicking started for slope.tif...\n",
      "Building VRT...\n",
      "Averaging buffer values...\n",
      "Cleaning files...\n",
      "Mosaic process completed.\n"
     ]
    }
   ],
   "source": [
    "# Build the mosaic for each of the terrain parameters\n",
    "geotiled.build_mosaic_filtered(input_folder='aspect_tiles', output_file='aspect', cleanup=True)\n",
    "geotiled.build_mosaic_filtered(input_folder='hillshade_tiles', output_file='hillshade', cleanup=True)\n",
    "geotiled.build_mosaic_filtered(input_folder='slope_tiles', output_file='slope', cleanup=True)"
   ]
  },
  {
   "cell_type": "markdown",
   "id": "5718150e-5906-4d70-8803-705310c72e6d",
   "metadata": {},
   "source": [
    "## Visualize the Results\n",
    "\n",
    "`generate_img()` plots the GeoTIFF data. A wide variety of parameters are available for this function, and details on what each one does can be found in the function documentation."
   ]
  },
  {
   "cell_type": "code",
   "execution_count": null,
   "id": "028a0711-6848-4dc7-9a42-d75fcbdaa703",
   "metadata": {},
   "outputs": [
    {
     "name": "stdout",
     "output_type": "stream",
     "text": [
      "Reprojecting elevation.tif...\n",
      "Reprojection process complete.\n",
      "Cropping NaN values...\n",
      "Reading in tif for visualization...\n",
      "Plotting data...\n",
      "Done. Image should appear soon...\n",
      "Reprojecting hillshade.tif...\n",
      "Reprojection process complete.\n",
      "Cropping NaN values...\n",
      "Reading in tif for visualization...\n",
      "Plotting data...\n",
      "Done. Image should appear soon...\n",
      "Reprojecting aspect.tif...\n",
      "Reprojection process complete.\n",
      "Cropping NaN values...\n"
     ]
    }
   ],
   "source": [
    "# Create plots for all terrain parameters\n",
    "elev_img = geotiled.generate_img(tif='elevation', downsample=5, reproject_gcs=True, title=\"Elevation Data for TN @ 30m Resolution\", zunit=\"Meter\",  xyunit=\"Degree\", ztype=\"Elevation\") \n",
    "hill_img = geotiled.generate_img(tif='hillshade', downsample=5, reproject_gcs=True, title=\"Hillshade Data for TN @ 30m Resolution\", zunit=\"Level\",  xyunit=\"Degree\", ztype=\"Hillshade\")\n",
    "asp_img  = geotiled.generate_img(tif='aspect',    downsample=5, reproject_gcs=True, title=\"Aspect Data for TN @ 30m Resolution\",    zunit=\"Degree\", xyunit=\"Degree\", ztype=\"Aspect\")\n",
    "slp_img  = geotiled.generate_img(tif='slope',     downsample=5, reproject_gcs=True, title=\"Slope Data for TN @ 30m Resolution\",     zunit=\"Degree\", xyunit=\"Degree\", ztype=\"Slope\")"
   ]
  },
  {
   "cell_type": "markdown",
   "id": "b2c10dc8-c6ca-42fa-b370-b4794138bd26",
   "metadata": {},
   "source": [
    "## End of Demo"
   ]
  }
 ],
 "metadata": {
  "kernelspec": {
   "display_name": "Python 3 (ipykernel)",
   "language": "python",
   "name": "python3"
  },
  "language_info": {
   "codemirror_mode": {
    "name": "ipython",
    "version": 3
   },
   "file_extension": ".py",
   "mimetype": "text/x-python",
   "name": "python",
   "nbconvert_exporter": "python",
   "pygments_lexer": "ipython3",
   "version": "3.12.1"
  }
 },
 "nbformat": 4,
 "nbformat_minor": 5
}

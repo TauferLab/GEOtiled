{
 "cells": [
  {
   "cell_type": "markdown",
   "id": "e00452bb-dfed-4e67-8e4f-25a850d98300",
   "metadata": {},
   "source": [
    "# GEOtiled Demo: A Scalable Workflow for Generating Large Datasets of High-Resolution Terrain Parameters\n",
    "\n",
    "The GEOtiled workflow is comprised of three stages: \n",
    "1. Crop a preprocessed Digital Elevation Model (DEM) into tiles, each with a buffer region\n",
    "2. Compute the desired terrain parameters for each individual tile concurrently\n",
    "3. Mosaic each terrain parameter's tiles together\n",
    "\n",
    "<p style=\"text-align:center\">\n",
    "    <img src=\"demo_images/geotiled_workflow.png\" width=\"800\"/>\n",
    "</p>\n",
    "<p style=\"text-align:center\">\n",
    "    <b>Figure 1. </b>GEOtiled Workflow\n",
    "</p>\n",
    "    \n",
    "Terrain parameters are computed using DEMs from [USGS 3DEP Products](https://www.usgs.gov/3d-elevation-program/about-3dep-products-services) to compute over 15 topographic parameters. By default, this demo uses 3DEP products covering the entirety of the US state of Tennessee at a 30m resolution.\n",
    "\n",
    "If you would like to work with a different region of data, go to the [USGS Data Download Application](https://apps.nationalmap.gov/downloader/#/elevation) and use the map to look for available DEM data. If using downloads links stored in a text file, said file should be stored in your working directory.\n",
    "\n",
    "**IMPORTANT NOTE: Larger regions or higher resolutions will significantly increase the size of the data and the time to compute it.** "
   ]
  },
  {
   "cell_type": "markdown",
   "id": "41ca43c0-4b86-471e-a7ca-400dfcab5ba0",
   "metadata": {},
   "source": [
    "## Environment Setup\n",
    "\n",
    "The first cell below imports required libraries to run the notebook."
   ]
  },
  {
   "cell_type": "code",
   "execution_count": null,
   "id": "e71c9023-bfcc-4511-9847-4c9bdeae5b92",
   "metadata": {},
   "outputs": [],
   "source": [
    "# DO NOT MODIFY: Import library used to run notebook\n",
    "import geotiled"
   ]
  },
  {
   "cell_type": "markdown",
   "id": "2c46b454-4bd0-4d6f-914b-dd7350147745",
   "metadata": {},
   "source": [
    "### Settings\n",
    "\n",
    "In the following cell you may specify variables such as what data to download, the size of the intermediary tiles to use for computation, and the file path where data will be stored. Comments for what each variable is for is included.\n",
    "\n",
    "**Important Notes**\n",
    "* For DEM download, three different methods are available: from a text file with a list of USGS download links, based off a shape file, or a specified latitude and longitude box\n",
    "  * A text file from the USGS page should be stored in the working directory or child directory\n",
    "  * Shape files are available for all US states and Washington DC. For the shapefile variable, specify the state abbreviation to use the correlating shapefile (e.g. TN for Tennessee)\n",
    "  * A bounding box can be specified using the following syntax: {\"xmin\": val,\"ymin\": val,\"xmax\": val,\"ymax\": val}. X values correlate to longitude and Y values correlate to latitude (in degrees)"
   ]
  },
  {
   "cell_type": "code",
   "execution_count": null,
   "id": "965ecc7c-ff92-4943-b2e1-edec99a14104",
   "metadata": {},
   "outputs": [],
   "source": [
    "# Data download variables\n",
    "download_list = 'urls.txt'\n",
    "dataset = '30m'\n",
    "region = 'TN'\n",
    "\n",
    "# Desired size of tiles\n",
    "tile_size = [9137,4216]\n",
    "\n",
    "# List of terrain parameters to compute\n",
    "terrain_parameters = ['slope','aspect','hillshade']\n",
    "\n",
    "# Specify the desired library to compute terrain parameters with\n",
    "library = 'SAGA'\n",
    "\n",
    "# Set the working directory\n",
    "working_directory = '/media/volume/gabriel-geotiled/tn_30m'\n",
    "geotiled.set_working_directory(working_directory)"
   ]
  },
  {
   "cell_type": "markdown",
   "id": "30c1811a-89c2-44b7-a333-e6bd52c86c33",
   "metadata": {},
   "source": [
    "## Preprocess the DEMs\n",
    "\n",
    "### Fetch Data\n",
    "\n",
    "`fetch_dem()` downloads DEMs directly from the USGS webpage within the bounds of a specified state shapefile or bounding box along with a desired resolution. The user has the option to either save the URLs with the download links for each DEM in a text file or download immediately. **Note that if both a shapefile and bounding box are given, the shapefile will take precedent.**\n",
    "\n",
    "`download_files()` downloads the DEMs from a specified text file with download URLs or a Python list of strings containing the download URLs. If you would like to use your own text file to download DEMs, skip `fetch_dem()` and only run this function."
   ]
  },
  {
   "cell_type": "code",
   "execution_count": null,
   "id": "35c9cc1d-6854-4f61-a174-21c64e330d69",
   "metadata": {},
   "outputs": [],
   "source": [
    "# Create a text file with download URLs from a shape file\n",
    "geotiled.fetch_dem(shapefile=region, txt_file=download_list, dataset=dataset)"
   ]
  },
  {
   "cell_type": "code",
   "execution_count": null,
   "id": "76226e65-48b6-47b3-9ad4-3f2851aa2d6b",
   "metadata": {},
   "outputs": [],
   "source": [
    "# Download files from the created text file\n",
    "geotiled.download_files(download_list=download_list, download_folder='dem_tiles')"
   ]
  },
  {
   "cell_type": "markdown",
   "id": "32fe35c4-d736-43cb-bd17-6c008e16fdc3",
   "metadata": {},
   "source": [
    "### Mosaic and Reproject DEMs\n",
    "\n",
    "`build_mosaic()` merges together the downloaded DEM files into a single GeoTIFF file.\n",
    "\n",
    "**Optional:** `reproject()` reprojects a specified GeoTIFF from its original coordinate system project to a new specified projection. It is important to ensure that the project has square grid cells for computational compatibility. DEMs from USGS are projected using the NAD83 (EPSG:4269) projection by default."
   ]
  },
  {
   "cell_type": "code",
   "execution_count": null,
   "id": "a6e03f4f-1745-4e00-9fcf-ca85782a1ecd",
   "metadata": {},
   "outputs": [],
   "source": [
    "# Build mosaic from DEMs\n",
    "geotiled.build_mosaic(input_folder='dem_tiles', output_file='mosaic.tif', description='Elevation', cleanup=False)"
   ]
  },
  {
   "cell_type": "code",
   "execution_count": null,
   "id": "7742bebf-106b-4afe-9d71-0f440e61b91f",
   "metadata": {},
   "outputs": [],
   "source": [
    "# Reproject the mosaic to Projected Coordinate System (PCS) EPSG:26918 - NAD83 UTM Zone 18N\n",
    "geotiled.reproject(input_file='mosaic.tif', output_file='elevation.tif', projection='EPSG:26918', cleanup=False)"
   ]
  },
  {
   "cell_type": "markdown",
   "id": "630a6c94-7822-46ba-af13-49e7927f3b16",
   "metadata": {},
   "source": [
    "## Compute Terrain Parameters with GEOtiled\n",
    "\n",
    "`crop_and_compute()` concurrently crops the preprocessed input DEM into tiles, computes desired terrain parameters, and crops off the buffer region of all computed terrain parameter tiles.\n",
    "\n",
    "`build_mosaic()` is used to merge together the unbuffered terrain parameter tiles for each computed terrain parameter."
   ]
  },
  {
   "cell_type": "code",
   "execution_count": null,
   "id": "5a2e9ab3-325b-4978-a6dc-bc50e6d9c9de",
   "metadata": {},
   "outputs": [],
   "source": [
    "# Run GEOtiled to crop and compute all terrain parameters for the given elevation data\n",
    "geotiled.crop_and_compute(input_file='elevation.tif', column_length=tile_size[0], row_length=tile_size[1], parameter_list=terrain_parameters, compute_method=library)"
   ]
  },
  {
   "cell_type": "code",
   "execution_count": null,
   "id": "7d7dc3a1-d831-45c0-8fe5-04d0397cd2c7",
   "metadata": {},
   "outputs": [],
   "source": [
    "# Build mosaics for each of the computed parameter tiles\n",
    "for terrain_parameter in terrain_parameters:\n",
    "    geotiled.build_mosaic(input_folder=f\"unbuffered_{terrain_parameter}_tiles\", output_file=f\"{terrain_parameter}.tif\")"
   ]
  },
  {
   "cell_type": "markdown",
   "id": "5718150e-5906-4d70-8803-705310c72e6d",
   "metadata": {},
   "source": [
    "## Visualize the Results\n",
    "\n",
    "`generate_img()` plots the GeoTIFF data. If you have large data, it may be beneficial to downsample the data for faster plotting. "
   ]
  },
  {
   "cell_type": "code",
   "execution_count": null,
   "id": "8f86cd97-20d5-44b9-8b33-b1361a6ba23d",
   "metadata": {},
   "outputs": [],
   "source": [
    "# Visualize the terrain parameters\n",
    "slp_img = geotiled.generate_img(tif='slope.tif', downsample=5, shp_files=region, crop_shp=True, reproject_gcs=True, title=\"TN Slope 30m\", zunit=\"Radians\", xyunit=\"Degree\", ztype=\"Slope\")\n",
    "asp_img = geotiled.generate_img(tif='aspect.tif', downsample=5, shp_files=region, crop_shp=True, reproject_gcs=True, title=\"TN Aspect 30m\", zunit=\"Radians\", xyunit=\"Degree\", ztype=\"Aspect\")\n",
    "hld_img = geotiled.generate_img(tif='hillshade.tif', downsample=5, shp_files=region, crop_shp=True, reproject_gcs=True, title=\"TN Hillshade 30m\", zunit=\"Level\", xyunit=\"Degree\", ztype=\"Hillshade\")"
   ]
  },
  {
   "cell_type": "markdown",
   "id": "b2c10dc8-c6ca-42fa-b370-b4794138bd26",
   "metadata": {},
   "source": [
    "## End of Demo"
   ]
  }
 ],
 "metadata": {
  "kernelspec": {
   "display_name": "Python 3 (ipykernel)",
   "language": "python",
   "name": "python3"
  },
  "language_info": {
   "codemirror_mode": {
    "name": "ipython",
    "version": 3
   },
   "file_extension": ".py",
   "mimetype": "text/x-python",
   "name": "python",
   "nbconvert_exporter": "python",
   "pygments_lexer": "ipython3",
   "version": "3.12.8"
  }
 },
 "nbformat": 4,
 "nbformat_minor": 5
}

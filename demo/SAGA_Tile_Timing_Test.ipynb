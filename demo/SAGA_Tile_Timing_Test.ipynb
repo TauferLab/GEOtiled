{
 "cells": [
  {
   "cell_type": "markdown",
   "id": "5849085e-55fb-4115-904d-9345841bfc91",
   "metadata": {},
   "source": [
    "# GEOtiled Computation Times using SAGA with Various Tile Counts\n",
    "\n",
    "The goal of this notebook is to evaluate compute times of the slope terrain parameter using SAGA API and splitting the elevation data into a various number of tiles. The theory is that computation time will have a bell-shaped parabolic behavior as the number of tiles elevation is split into increases.\n",
    "\n",
    "Note that what is being timed is the following:\n",
    "* Conversion of elevation tiles into the SAGA format\n",
    "* Computation of slope on each SAGA elevation file\n",
    "* Conversion of computed slope tiles back into GeoTIFF\n",
    "* Mosaic of the tiles into a single image\n",
    "\n",
    "A base case is included under the 'Entire Image' section where the original elevation is not split into tiles."
   ]
  },
  {
   "cell_type": "markdown",
   "id": "f691ca06-8cea-455a-ad97-2a4447029ac4",
   "metadata": {},
   "source": [
    "## Initial Setup"
   ]
  },
  {
   "cell_type": "code",
   "execution_count": 1,
   "id": "4e49a0bf-6999-48cc-a251-7f80e0760f0d",
   "metadata": {},
   "outputs": [
    {
     "name": "stderr",
     "output_type": "stream",
     "text": [
      "/usr/lib/grass78/etc/python/grass/script/db.py:125: SyntaxWarning: invalid escape sequence '\\g'\n",
      "  \"\"\"Perform SQL select statement\n"
     ]
    }
   ],
   "source": [
    "# DO NOT MODIFY: Import libraries used to run notebook\n",
    "import geotiled\n",
    "import time\n",
    "import os"
   ]
  },
  {
   "cell_type": "code",
   "execution_count": 3,
   "id": "873eac2f-363c-4f07-aa8e-1f5261427863",
   "metadata": {},
   "outputs": [],
   "source": [
    "# Set working directory\n",
    "data_folder = \"/media/volume/geotiled-saga/tn_10m\" \n",
    "geotiled.set_working_directory(data_folder)"
   ]
  },
  {
   "cell_type": "markdown",
   "id": "850242b9-2d39-4763-99b9-90ae0f158966",
   "metadata": {},
   "source": [
    "## Optional: Output Codes"
   ]
  },
  {
   "cell_type": "code",
   "execution_count": 7,
   "id": "0db69354-5a6d-4b80-8174-c63905871b52",
   "metadata": {},
   "outputs": [
    {
     "name": "stdout",
     "output_type": "stream",
     "text": [
      "The data codes and their associated parameter are:\n",
      "30m : National Elevation Dataset (NED) 1 arc-second Current\n",
      "10m : National Elevation Dataset (NED) 1/3 arc-second Current\n"
     ]
    }
   ],
   "source": [
    "geotiled.print_data_codes()"
   ]
  },
  {
   "cell_type": "code",
   "execution_count": null,
   "id": "aee948b4-1fad-4aed-8ae2-4ffe524cea73",
   "metadata": {},
   "outputs": [],
   "source": [
    "geotiled.print_parameter_codes()"
   ]
  },
  {
   "cell_type": "code",
   "execution_count": null,
   "id": "8dade3bc-266c-4dfc-b940-7c2fada48df3",
   "metadata": {},
   "outputs": [],
   "source": [
    "geotiled.print_region_codes()"
   ]
  },
  {
   "cell_type": "markdown",
   "id": "261555c3-c796-4ed6-9f37-c40afdc00c1a",
   "metadata": {},
   "source": [
    "## Configure Parameters"
   ]
  },
  {
   "cell_type": "code",
   "execution_count": 4,
   "id": "5c5a20fb-abf0-4dbf-9ab2-5cfa9c94737f",
   "metadata": {},
   "outputs": [],
   "source": [
    "shapefile = \"TN\" # Region to cover\n",
    "dataset = \"10m\"  # Dataset to download\n",
    "params = [\"SLP\"] # Parameters to compute"
   ]
  },
  {
   "cell_type": "markdown",
   "id": "172121b1-32a7-4640-bdf6-db1b57c30cf6",
   "metadata": {},
   "source": [
    "## Download Data"
   ]
  },
  {
   "cell_type": "code",
   "execution_count": 5,
   "id": "d5627987-0a02-4b2f-ad80-b14c5d9df961",
   "metadata": {},
   "outputs": [
    {
     "name": "stdout",
     "output_type": "stream",
     "text": [
      "Reading in shape file...\n"
     ]
    },
    {
     "name": "stderr",
     "output_type": "stream",
     "text": [
      "Downloading: 100%|\u001b[32m█████████████████████████████████████████████\u001b[0m| 58.1M/58.1M [00:02<00:00, 25.4MB/s]\u001b[0m\n"
     ]
    },
    {
     "name": "stdout",
     "output_type": "stream",
     "text": [
      "Setting boundary extents...\n",
      "Requesting data from USGS...\n"
     ]
    },
    {
     "name": "stderr",
     "output_type": "stream",
     "text": [
      "Downloading: 100%|\u001b[32m██████████████████████████████████████████████\u001b[0m| 14.2G/14.2G [02:12<00:00, 107MB/s]\u001b[0m\n"
     ]
    },
    {
     "name": "stdout",
     "output_type": "stream",
     "text": [
      "Fetch process complete.\n",
      "Getting input files...\n",
      "Constructing VRT...\n",
      "Updating band description...\n",
      "Cleaning intermediary files...\n",
      "Mosaic process complete.\n",
      "Reprojecting mosaic.tif...\n",
      "Cleaning intermediary files...\n",
      "Reprojection complete.\n"
     ]
    }
   ],
   "source": [
    "# Set working directory\n",
    "#data_folder = \"/media/volume/gabriel-geotiled-small/tn_10m\" \n",
    "#geotiled.set_working_directory(data_folder)\n",
    "\n",
    "# Create a text file with download URLs from a shapefile\n",
    "geotiled.fetch_dem(shapefile=shapefile, dataset=dataset, save_to_txt=False, download_folder=\"dem_tiles\", download=True)\n",
    "\n",
    "# Build mosaic from DEMs\n",
    "geotiled.build_mosaic(input_folder=\"dem_tiles\", output_file=\"mosaic\", description=\"Elevation\", cleanup=True)\n",
    "\n",
    "# Reproject the mosaic to Projected Coordinate System (PCS) EPSG:9822 - Albers Conic Equal Area projection \n",
    "geotiled.reproject(input_file=\"mosaic\", output_file=\"elevation\", projection=\"EPSG:9822\", cleanup=True)"
   ]
  },
  {
   "cell_type": "markdown",
   "id": "97ed898a-a844-43ec-ba9b-a728c6949d50",
   "metadata": {},
   "source": [
    "## Entire Image\n",
    "\n",
    "#### Results\n",
    "* TN 30m (1.7 GB) - 239\n",
    "* TN 10m (15 GB) - 2482"
   ]
  },
  {
   "cell_type": "code",
   "execution_count": 9,
   "id": "2ba8d279-4152-4866-9200-c50bf7e0c3aa",
   "metadata": {},
   "outputs": [
    {
     "name": "stdout",
     "output_type": "stream",
     "text": [
      "Compute time for entire image: 2482.4793417453766 seconds\n"
     ]
    }
   ],
   "source": [
    "# Set some paths\n",
    "elev = os.path.join(data_folder,\"elevation.tif\")\n",
    "slope = os.path.join(data_folder,\"slope.tif\")\n",
    "saga_elev = os.path.join(data_folder,\"elevation.sdat\")\n",
    "saga_slope = os.path.join(data_folder,\"slope.sdat\")\n",
    "\n",
    "# Start timer\n",
    "start_time = time.time()\n",
    "\n",
    "# Convert files to SAGA format\n",
    "geotiled.__geotiff_to_sdat(elev, saga_elev)\n",
    "\n",
    "# Run SAGA command to compute slope\n",
    "cmd = [\"tmux\", \"new-session\", \"-d\", \"-s\", \"computeOneSession\", \"saga_cmd\", \"ta_morphometry\", \"0\", \"-ELEVATION\", os.path.join(data_folder,\"elevation.sgrd\"), \"-SLOPE\", os.path.join(data_folder,\"slope.sgrd\")]\n",
    "geotiled.__bash(cmd)\n",
    "geotiled.__wait_on_tmux()\n",
    "\n",
    "# Convert output file back to GeoTIFF\n",
    "geotiled.__sdat_to_geotiff(saga_slope, slope)\n",
    "\n",
    "# Output total computation time\n",
    "print(\"Compute time for entire image: %s seconds\" % (time.time() - start_time))"
   ]
  },
  {
   "cell_type": "markdown",
   "id": "3cf38dbb-125f-4141-9526-cbb8b3ad6e7d",
   "metadata": {},
   "source": [
    "## 4 Tile Run\n",
    "\n",
    "#### Results\n",
    "* TN 30m (1.7 GB) - 41 | 240 | 115 | 395\n",
    "* TN 10m (15 GB, 32 cores) - 430 | 2030 | 850 | 3310"
   ]
  },
  {
   "cell_type": "code",
   "execution_count": 10,
   "id": "054b1e58-e702-4f13-9dc7-31c726b2269f",
   "metadata": {},
   "outputs": [
    {
     "name": "stdout",
     "output_type": "stream",
     "text": [
      "tile_0000.tif cropped.\n",
      "tile_0001.tif cropped.\n",
      "tile_0002.tif cropped.\n",
      "tile_0003.tif cropped.\n",
      "Tile split time: 430.21942138671875 seconds\n",
      "Getting input files...\n",
      "Computing parameters using SAGA...\n",
      "Converting tile_0000.tif to SDAT...\n",
      "Converting tile_0001.tif to SDAT...\n",
      "Converting tile_0002.tif to SDAT...\n",
      "Converting tile_0003.tif to SDAT...\n",
      "Converting SAGA files to GeoTIFF...\n",
      "Cleaning SAGA files\n",
      "Cleaning files...\n",
      "GEOtiled computation done!\n",
      "Tile compute time: 2029.76877450943 seconds\n",
      "Mosaicking process started...\n",
      "Building VRT...\n",
      "Averaging buffer values...\n",
      "Cleaning files...\n",
      "Mosaic process completed.\n",
      "Tile merge time: 850.1826305389404 seconds\n",
      "Compute time for 4 tiles: 3310.1709179878235 seconds\n"
     ]
    }
   ],
   "source": [
    "# Start timer\n",
    "start_time = time.time()\n",
    "\n",
    "# Crop elevation into tiles\n",
    "geotiled.crop_into_tiles(input_file='elevation', output_folder='elevation_tiles', num_tiles=4)\n",
    "crop_time = time.time()\n",
    "print(\"Tile split time: %s seconds\" % (crop_time - start_time))\n",
    "\n",
    "# Run GEOtiled\n",
    "geotiled.compute_geotiled(input_folder='elevation_tiles', param_list=params, use_saga=True, clean_saga=True, cleanup=True)\n",
    "compute_time = time.time()\n",
    "print(\"Tile compute time: %s seconds\" % (compute_time - crop_time))\n",
    "\n",
    "# Merge tiles\n",
    "geotiled.build_mosaic_filtered(input_folder='slope_tiles', output_file='slope4', cleanup=True)\n",
    "print(\"Tile merge time: %s seconds\" % (time.time() - compute_time))\n",
    "\n",
    "# Output total computation time\n",
    "print(\"Compute time for 4 tiles: %s seconds\" % (time.time() - start_time))"
   ]
  },
  {
   "cell_type": "markdown",
   "id": "24c1b152-362c-4130-a079-1d787247228f",
   "metadata": {},
   "source": [
    "## 9 Tile Run"
   ]
  },
  {
   "cell_type": "code",
   "execution_count": null,
   "id": "19dc5007-1dd9-4f55-87d3-3f91013605b4",
   "metadata": {},
   "outputs": [],
   "source": [
    "# Start timer\n",
    "start_time = time.time()\n",
    "\n",
    "# Crop elevation into tiles\n",
    "geotiled.crop_into_tiles(input_file='elevation', output_folder='elevation_tiles', num_tiles=9)\n",
    "crop_time = time.time()\n",
    "print(\"Tile split time: %s seconds\" % (crop_time - start_time))\n",
    "\n",
    "# Run GEOtiled\n",
    "geotiled.compute_geotiled(input_folder='elevation_tiles', param_list=params, use_saga=True, clean_saga=True, cleanup=True)\n",
    "compute_time = time.time()\n",
    "print(\"Tile compute time: %s seconds\" % (compute_time - crop_time))\n",
    "\n",
    "# Merge tiles\n",
    "geotiled.build_mosaic_filtered(input_folder='slope_tiles', output_file='slope9', cleanup=True)\n",
    "print(\"Tile merge time: %s seconds\" % (time.time() - compute_time))\n",
    "\n",
    "# Output total computation time\n",
    "print(\"Compute time for 9 tiles: %s seconds\" % (time.time() - start_time))"
   ]
  },
  {
   "cell_type": "markdown",
   "id": "d3446bee-f388-4a7b-9cf8-0a459a2c06ac",
   "metadata": {},
   "source": [
    "## 16 Tile Run\n",
    "\n",
    "#### Results\n",
    "\n",
    "* TN 30m (1.7 GB) - 41 | 336 | 161 | 538\n",
    "* TN 10m (15 GB, 32 cores) - 407 | 2092 | 1540 | 4039"
   ]
  },
  {
   "cell_type": "code",
   "execution_count": 11,
   "id": "1f4b85a4-52a4-4f0e-a3a1-94009291bfed",
   "metadata": {},
   "outputs": [
    {
     "name": "stdout",
     "output_type": "stream",
     "text": [
      "tile_0000.tif cropped.\n",
      "tile_0001.tif cropped.\n",
      "tile_0002.tif cropped.\n",
      "tile_0003.tif cropped.\n",
      "tile_0004.tif cropped.\n",
      "tile_0005.tif cropped.\n",
      "tile_0006.tif cropped.\n",
      "tile_0007.tif cropped.\n",
      "tile_0008.tif cropped.\n",
      "tile_0009.tif cropped.\n",
      "tile_0010.tif cropped.\n",
      "tile_0011.tif cropped.\n",
      "tile_0012.tif cropped.\n",
      "tile_0013.tif cropped.\n",
      "tile_0014.tif cropped.\n",
      "tile_0015.tif cropped.\n",
      "Tile split time: 407.1943368911743 seconds\n",
      "Getting input files...\n",
      "Computing parameters using SAGA...\n",
      "Converting tile_0000.tif to SDAT...\n",
      "Converting tile_0001.tif to SDAT...\n",
      "Converting tile_0002.tif to SDAT...\n",
      "Converting tile_0003.tif to SDAT...\n",
      "Converting tile_0004.tif to SDAT...\n",
      "Converting tile_0005.tif to SDAT...\n",
      "Converting tile_0006.tif to SDAT...\n",
      "Converting tile_0007.tif to SDAT...\n",
      "Converting tile_0008.tif to SDAT...\n",
      "Converting tile_0009.tif to SDAT...\n",
      "Converting tile_0010.tif to SDAT...\n",
      "Converting tile_0011.tif to SDAT...\n",
      "Converting tile_0012.tif to SDAT...\n",
      "Converting tile_0013.tif to SDAT...\n",
      "Converting tile_0014.tif to SDAT...\n",
      "Converting tile_0015.tif to SDAT...\n",
      "Converting SAGA files to GeoTIFF...\n",
      "Cleaning SAGA files\n",
      "Cleaning files...\n",
      "GEOtiled computation done!\n",
      "Tile compute time: 2092.357219696045 seconds\n",
      "Mosaicking process started...\n",
      "Building VRT...\n",
      "Averaging buffer values...\n",
      "Cleaning files...\n",
      "Mosaic process completed.\n",
      "Tile merge time: 1540.3865699768066 seconds\n",
      "Compute time for 16 tiles: 4039.938247680664 seconds\n"
     ]
    }
   ],
   "source": [
    "# Start timer\n",
    "start_time = time.time()\n",
    "\n",
    "# Crop elevation into tiles\n",
    "geotiled.crop_into_tiles(input_file='elevation', output_folder='elevation_tiles', num_tiles=16)\n",
    "crop_time = time.time()\n",
    "print(\"Tile split time: %s seconds\" % (crop_time - start_time))\n",
    "\n",
    "# Run GEOtiled\n",
    "geotiled.compute_geotiled(input_folder='elevation_tiles', param_list=params, use_saga=True, clean_saga=True, cleanup=True)\n",
    "compute_time = time.time()\n",
    "print(\"Tile compute time: %s seconds\" % (compute_time - crop_time))\n",
    "\n",
    "# Merge tiles\n",
    "geotiled.build_mosaic_filtered(input_folder='slope_tiles', output_file='slope16', cleanup=True)\n",
    "print(\"Tile merge time: %s seconds\" % (time.time() - compute_time))\n",
    "\n",
    "# Output total computation time\n",
    "print(\"Compute time for 16 tiles: %s seconds\" % (time.time() - start_time))"
   ]
  },
  {
   "cell_type": "markdown",
   "id": "5d96b74a-896d-4c8f-95a0-ec3d4aa69b3f",
   "metadata": {},
   "source": [
    "## 25 Tile Run"
   ]
  },
  {
   "cell_type": "code",
   "execution_count": null,
   "id": "f66bf94f-b5a3-454f-8021-bb4778d40196",
   "metadata": {},
   "outputs": [],
   "source": [
    "# Start timer\n",
    "start_time = time.time()\n",
    "\n",
    "# Crop elevation into tiles\n",
    "geotiled.crop_into_tiles(input_file='elevation', output_folder='elevation_tiles', num_tiles=25)\n",
    "crop_time = time.time()\n",
    "print(\"Tile split time: %s seconds\" % (crop_time - start_time))\n",
    "\n",
    "# Run GEOtiled\n",
    "geotiled.compute_geotiled(input_folder='elevation_tiles', param_list=params, use_saga=True, clean_saga=True, cleanup=True)\n",
    "compute_time = time.time()\n",
    "print(\"Tile compute time: %s seconds\" % (compute_time - crop_time))\n",
    "\n",
    "# Merge tiles\n",
    "geotiled.build_mosaic_filtered(input_folder='slope_tiles', output_file='slope25', cleanup=True)\n",
    "print(\"Tile merge time: %s seconds\" % (time.time() - compute_time))\n",
    "\n",
    "# Output total computation time\n",
    "print(\"Compute time for 25 tiles: %s seconds\" % (time.time() - start_time))"
   ]
  },
  {
   "cell_type": "markdown",
   "id": "ff69870e-f720-4bd8-932e-fd2b8a494f69",
   "metadata": {},
   "source": [
    "## 36 Tile Run"
   ]
  },
  {
   "cell_type": "code",
   "execution_count": null,
   "id": "96645b65-6fb0-4f9e-b3f2-564f2144ef62",
   "metadata": {},
   "outputs": [],
   "source": [
    "# Start timer\n",
    "start_time = time.time()\n",
    "\n",
    "# Crop elevation into tiles\n",
    "geotiled.crop_into_tiles(input_file='elevation', output_folder='elevation_tiles', num_tiles=36)\n",
    "crop_time = time.time()\n",
    "print(\"Tile split time: %s seconds\" % (crop_time - start_time))\n",
    "\n",
    "# Run GEOtiled\n",
    "geotiled.compute_geotiled(input_folder='elevation_tiles', param_list=params, use_saga=True, clean_saga=True, cleanup=True)\n",
    "compute_time = time.time()\n",
    "print(\"Tile compute time: %s seconds\" % (compute_time - crop_time))\n",
    "\n",
    "# Merge tiles\n",
    "geotiled.build_mosaic_filtered(input_folder='slope_tiles', output_file='slope36', cleanup=True)\n",
    "print(\"Tile merge time: %s seconds\" % (time.time() - compute_time))\n",
    "\n",
    "# Output total computation time\n",
    "print(\"Compute time for 36 tiles: %s seconds\" % (time.time() - start_time))"
   ]
  },
  {
   "cell_type": "markdown",
   "id": "bf701ae9-e7c8-45e2-bfc6-0bdcef1e0c00",
   "metadata": {},
   "source": [
    "## 49 Tile Run"
   ]
  },
  {
   "cell_type": "code",
   "execution_count": null,
   "id": "400a9b88-9736-4ea2-8003-94636f3318fd",
   "metadata": {},
   "outputs": [],
   "source": [
    "# Start timer\n",
    "start_time = time.time()\n",
    "\n",
    "# Crop elevation into tiles\n",
    "geotiled.crop_into_tiles(input_file='elevation', output_folder='elevation_tiles', num_tiles=49)\n",
    "crop_time = time.time()\n",
    "print(\"Tile split time: %s seconds\" % (crop_time - start_time))\n",
    "\n",
    "# Run GEOtiled\n",
    "geotiled.compute_geotiled(input_folder='elevation_tiles', param_list=params, use_saga=True, clean_saga=True, cleanup=True)\n",
    "compute_time = time.time()\n",
    "print(\"Tile compute time: %s seconds\" % (compute_time - crop_time))\n",
    "\n",
    "# Merge tiles\n",
    "geotiled.build_mosaic_filtered(input_folder='slope_tiles', output_file='slope49', cleanup=True)\n",
    "print(\"Tile merge time: %s seconds\" % (time.time() - compute_time))\n",
    "\n",
    "# Output total computation time\n",
    "print(\"Compute time for 49 tiles: %s seconds\" % (time.time() - start_time))"
   ]
  },
  {
   "cell_type": "markdown",
   "id": "ed0ab633-483a-48cd-ab55-3eb67d61feb8",
   "metadata": {},
   "source": [
    "## 64 Tile Run\n",
    "\n",
    "#### Results\n",
    "\n",
    "* TN 30m (1.7 GB) - 43 | 528 | 402 | 973\n",
    "* TN 10m (15 GB, 32 cores) - 426 | 2279 | 4210 | 6916"
   ]
  },
  {
   "cell_type": "code",
   "execution_count": 12,
   "id": "89cc7aa0-e983-49c9-89ed-f6b1d64bcb88",
   "metadata": {},
   "outputs": [
    {
     "name": "stdout",
     "output_type": "stream",
     "text": [
      "tile_0000.tif cropped.\n",
      "tile_0001.tif cropped.\n",
      "tile_0002.tif cropped.\n",
      "tile_0003.tif cropped.\n",
      "tile_0004.tif cropped.\n",
      "tile_0005.tif cropped.\n",
      "tile_0006.tif cropped.\n",
      "tile_0007.tif cropped.\n",
      "tile_0008.tif cropped.\n",
      "tile_0009.tif cropped.\n",
      "tile_0010.tif cropped.\n",
      "tile_0011.tif cropped.\n",
      "tile_0012.tif cropped.\n",
      "tile_0013.tif cropped.\n",
      "tile_0014.tif cropped.\n",
      "tile_0015.tif cropped.\n",
      "tile_0016.tif cropped.\n",
      "tile_0017.tif cropped.\n",
      "tile_0018.tif cropped.\n",
      "tile_0019.tif cropped.\n",
      "tile_0020.tif cropped.\n",
      "tile_0021.tif cropped.\n",
      "tile_0022.tif cropped.\n",
      "tile_0023.tif cropped.\n",
      "tile_0024.tif cropped.\n",
      "tile_0025.tif cropped.\n",
      "tile_0026.tif cropped.\n",
      "tile_0027.tif cropped.\n",
      "tile_0028.tif cropped.\n",
      "tile_0029.tif cropped.\n",
      "tile_0030.tif cropped.\n",
      "tile_0031.tif cropped.\n",
      "tile_0032.tif cropped.\n",
      "tile_0033.tif cropped.\n",
      "tile_0034.tif cropped.\n",
      "tile_0035.tif cropped.\n",
      "tile_0036.tif cropped.\n",
      "tile_0037.tif cropped.\n",
      "tile_0038.tif cropped.\n",
      "tile_0039.tif cropped.\n",
      "tile_0040.tif cropped.\n",
      "tile_0041.tif cropped.\n",
      "tile_0042.tif cropped.\n",
      "tile_0043.tif cropped.\n",
      "tile_0044.tif cropped.\n",
      "tile_0045.tif cropped.\n",
      "tile_0046.tif cropped.\n",
      "tile_0047.tif cropped.\n",
      "tile_0048.tif cropped.\n",
      "tile_0049.tif cropped.\n",
      "tile_0050.tif cropped.\n",
      "tile_0051.tif cropped.\n",
      "tile_0052.tif cropped.\n",
      "tile_0053.tif cropped.\n",
      "tile_0054.tif cropped.\n",
      "tile_0055.tif cropped.\n",
      "tile_0056.tif cropped.\n",
      "tile_0057.tif cropped.\n",
      "tile_0058.tif cropped.\n",
      "tile_0059.tif cropped.\n",
      "tile_0060.tif cropped.\n",
      "tile_0061.tif cropped.\n",
      "tile_0062.tif cropped.\n",
      "tile_0063.tif cropped.\n",
      "Tile split time: 425.9424180984497 seconds\n",
      "Getting input files...\n",
      "Computing parameters using SAGA...\n",
      "Converting tile_0000.tif to SDAT...\n",
      "Converting tile_0001.tif to SDAT...\n",
      "Converting tile_0002.tif to SDAT...\n",
      "Converting tile_0003.tif to SDAT...\n",
      "Converting tile_0004.tif to SDAT...\n",
      "Converting tile_0005.tif to SDAT...\n",
      "Converting tile_0006.tif to SDAT...\n",
      "Converting tile_0007.tif to SDAT...\n",
      "Converting tile_0008.tif to SDAT...\n",
      "Converting tile_0009.tif to SDAT...\n",
      "Converting tile_0010.tif to SDAT...\n",
      "Converting tile_0011.tif to SDAT...\n",
      "Converting tile_0012.tif to SDAT...\n",
      "Converting tile_0013.tif to SDAT...\n",
      "Converting tile_0014.tif to SDAT...\n",
      "Converting tile_0015.tif to SDAT...\n",
      "Converting tile_0016.tif to SDAT...\n",
      "Converting tile_0017.tif to SDAT...\n",
      "Converting tile_0018.tif to SDAT...\n",
      "Converting tile_0019.tif to SDAT...\n",
      "Converting tile_0020.tif to SDAT...\n",
      "Converting tile_0021.tif to SDAT...\n",
      "Converting tile_0022.tif to SDAT...\n",
      "Converting tile_0023.tif to SDAT...\n",
      "Converting tile_0024.tif to SDAT...\n",
      "Converting tile_0025.tif to SDAT...\n",
      "Converting tile_0026.tif to SDAT...\n",
      "Converting tile_0027.tif to SDAT...\n",
      "Converting tile_0028.tif to SDAT...\n",
      "Converting tile_0029.tif to SDAT...\n",
      "Converting tile_0030.tif to SDAT...\n",
      "Converting tile_0031.tif to SDAT...\n",
      "Converting tile_0032.tif to SDAT...\n",
      "Converting tile_0033.tif to SDAT...\n",
      "Converting tile_0034.tif to SDAT...\n",
      "Converting tile_0035.tif to SDAT...\n",
      "Converting tile_0036.tif to SDAT...\n",
      "Converting tile_0037.tif to SDAT...\n",
      "Converting tile_0038.tif to SDAT...\n",
      "Converting tile_0039.tif to SDAT...\n",
      "Converting tile_0040.tif to SDAT...\n",
      "Converting tile_0041.tif to SDAT...\n",
      "Converting tile_0042.tif to SDAT...\n",
      "Converting tile_0043.tif to SDAT...\n",
      "Converting tile_0044.tif to SDAT...\n",
      "Converting tile_0045.tif to SDAT...\n",
      "Converting tile_0046.tif to SDAT...\n",
      "Converting tile_0047.tif to SDAT...\n",
      "Converting tile_0048.tif to SDAT...\n",
      "Converting tile_0049.tif to SDAT...\n",
      "Converting tile_0050.tif to SDAT...\n",
      "Converting tile_0051.tif to SDAT...\n",
      "Converting tile_0052.tif to SDAT...\n",
      "Converting tile_0053.tif to SDAT...\n",
      "Converting tile_0054.tif to SDAT...\n",
      "Converting tile_0055.tif to SDAT...\n",
      "Converting tile_0056.tif to SDAT...\n",
      "Converting tile_0057.tif to SDAT...\n",
      "Converting tile_0058.tif to SDAT...\n",
      "Converting tile_0059.tif to SDAT...\n",
      "Converting tile_0060.tif to SDAT...\n",
      "Converting tile_0061.tif to SDAT...\n",
      "Converting tile_0062.tif to SDAT...\n",
      "Converting tile_0063.tif to SDAT...\n",
      "Converting SAGA files to GeoTIFF...\n",
      "Cleaning SAGA files\n",
      "Cleaning files...\n",
      "GEOtiled computation done!\n",
      "Tile compute time: 2279.7812292575836 seconds\n",
      "Mosaicking process started...\n",
      "Building VRT...\n",
      "Averaging buffer values...\n",
      "Cleaning files...\n",
      "Mosaic process completed.\n",
      "Tile merge time: 4210.6038591861725 seconds\n",
      "Compute time for 64 tiles: 6916.3276216983795 seconds\n"
     ]
    }
   ],
   "source": [
    "# Start timer\n",
    "start_time = time.time()\n",
    "\n",
    "# Crop elevation into tiles\n",
    "geotiled.crop_into_tiles(input_file='elevation', output_folder='elevation_tiles', num_tiles=64)\n",
    "crop_time = time.time()\n",
    "print(\"Tile split time: %s seconds\" % (crop_time - start_time))\n",
    "\n",
    "# Run GEOtiled\n",
    "geotiled.compute_geotiled(input_folder='elevation_tiles', param_list=params, use_saga=True, clean_saga=True, cleanup=True)\n",
    "compute_time = time.time()\n",
    "print(\"Tile compute time: %s seconds\" % (compute_time - crop_time))\n",
    "\n",
    "# Merge tiles\n",
    "geotiled.build_mosaic_filtered(input_folder='slope_tiles', output_file='slope64', cleanup=True)\n",
    "print(\"Tile merge time: %s seconds\" % (time.time() - compute_time))\n",
    "\n",
    "# Output total computation time\n",
    "print(\"Compute time for 64 tiles: %s seconds\" % (time.time() - start_time))"
   ]
  },
  {
   "cell_type": "markdown",
   "id": "1b609761-9084-4d9b-886b-ff122085c886",
   "metadata": {},
   "source": [
    "## 81 Tile Run"
   ]
  },
  {
   "cell_type": "code",
   "execution_count": null,
   "id": "5b3c8c7d-b617-4583-b050-877964faab33",
   "metadata": {},
   "outputs": [],
   "source": [
    "# Start timer\n",
    "start_time = time.time()\n",
    "\n",
    "# Crop elevation into tiles\n",
    "geotiled.crop_into_tiles(input_file='elevation', output_folder='elevation_tiles', num_tiles=81)\n",
    "crop_time = time.time()\n",
    "print(\"Tile split time: %s seconds\" % (crop_time - start_time))\n",
    "\n",
    "# Run GEOtiled\n",
    "geotiled.compute_geotiled(input_folder='elevation_tiles', param_list=params, use_saga=True, clean_saga=True, cleanup=True)\n",
    "compute_time = time.time()\n",
    "print(\"Tile compute time: %s seconds\" % (compute_time - crop_time))\n",
    "\n",
    "# Merge tiles\n",
    "geotiled.build_mosaic_filtered(input_folder='slope_tiles', output_file='slope81', cleanup=True)\n",
    "print(\"Tile merge time: %s seconds\" % (time.time() - compute_time))\n",
    "\n",
    "# Output total computation time\n",
    "print(\"Compute time for 81 tiles: %s seconds\" % (time.time() - start_time))"
   ]
  },
  {
   "cell_type": "markdown",
   "id": "2c2fada9-c7da-4138-914d-2238683a16e4",
   "metadata": {},
   "source": [
    "## 100 Tile Run"
   ]
  },
  {
   "cell_type": "code",
   "execution_count": null,
   "id": "f27f6af1-6bd0-486d-8ba5-9b2468fba34d",
   "metadata": {},
   "outputs": [],
   "source": [
    "# Start timer\n",
    "start_time = time.time()\n",
    "\n",
    "# Crop elevation into tiles\n",
    "geotiled.crop_into_tiles(input_file='elevation', output_folder='elevation_tiles', num_tiles=100)\n",
    "crop_time = time.time()\n",
    "print(\"Tile split time: %s seconds\" % (crop_time - start_time))\n",
    "\n",
    "# Run GEOtiled\n",
    "geotiled.compute_geotiled(input_folder='elevation_tiles', param_list=params, use_saga=True, clean_saga=True, cleanup=True)\n",
    "compute_time = time.time()\n",
    "print(\"Tile compute time: %s seconds\" % (compute_time - crop_time))\n",
    "\n",
    "# Merge tiles\n",
    "geotiled.build_mosaic_filtered(input_folder='slope_tiles', output_file='slope100', cleanup=True)\n",
    "print(\"Tile merge time: %s seconds\" % (time.time() - compute_time))\n",
    "\n",
    "# Output total computation time\n",
    "print(\"Compute time for 100 tiles: %s seconds\" % (time.time() - start_time))"
   ]
  },
  {
   "cell_type": "markdown",
   "id": "95380e03-b7f1-4600-b862-624b6027d265",
   "metadata": {},
   "source": [
    "## Special Notes\n",
    "\n",
    "* Data in SAGA format is on average about **double** the size of data in GeoTIFF format"
   ]
  },
  {
   "cell_type": "markdown",
   "id": "bbcd2fe7-931a-4800-a474-a5a3c90aa55f",
   "metadata": {},
   "source": [
    "## End of Notebook"
   ]
  }
 ],
 "metadata": {
  "kernelspec": {
   "display_name": "Python 3 (ipykernel)",
   "language": "python",
   "name": "python3"
  },
  "language_info": {
   "codemirror_mode": {
    "name": "ipython",
    "version": 3
   },
   "file_extension": ".py",
   "mimetype": "text/x-python",
   "name": "python",
   "nbconvert_exporter": "python",
   "pygments_lexer": "ipython3",
   "version": "3.12.3"
  }
 },
 "nbformat": 4,
 "nbformat_minor": 5
}

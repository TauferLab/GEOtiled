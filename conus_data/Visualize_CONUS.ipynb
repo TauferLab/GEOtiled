{
 "cells": [
  {
   "cell_type": "markdown",
   "id": "a6015f0f-d039-4e5f-9855-0d413f6a728e",
   "metadata": {},
   "source": [
    "## Enviorment Setup\n",
    "\n",
    "Run the first cell below to import required libraries to run the notebook."
   ]
  },
  {
   "cell_type": "code",
   "execution_count": 1,
   "id": "6c9518cd-bbf2-46dc-b58e-ee160d8bf970",
   "metadata": {},
   "outputs": [],
   "source": [
    "# DO NOT MODIFY: Import library used to run notebook\n",
    "import tools"
   ]
  },
  {
   "cell_type": "markdown",
   "id": "8defb850-7cd5-4e1d-89fb-fc15c92c4e81",
   "metadata": {},
   "source": [
    "### Configuration\n",
    "\n",
    "Specify the desired terrain parameters, resolution, and state to download data for, and a directory to store the data in."
   ]
  },
  {
   "cell_type": "code",
   "execution_count": 2,
   "id": "4243f6c8-d243-4df5-a2ad-81d9ff483d8e",
   "metadata": {},
   "outputs": [],
   "source": [
    "dataset = '10m'\n",
    "state = 'AL'\n",
    "parameters = ['SLOPE','DRAINAGE_BASINS']\n",
    "storage_directory = \"/media/volume/gabriel-geotiled/demo_test\""
   ]
  },
  {
   "cell_type": "markdown",
   "id": "6d7b0f42-077e-4cef-a5ef-ca4474d3950c",
   "metadata": {},
   "source": [
    "## Download Data\n",
    "\n",
    "Downloads existing data off of the scientist cloud."
   ]
  },
  {
   "cell_type": "code",
   "execution_count": 3,
   "id": "907ba360-1617-4b33-a470-d2dcefb3bcea",
   "metadata": {},
   "outputs": [
    {
     "name": "stdout",
     "output_type": "stream",
     "text": [
      "/media/volume/gabriel-geotiled/demo_test/utk/conus/10m/AL/slope.tif already exists. Moving to next terrain parameter.\n",
      "/media/volume/gabriel-geotiled/demo_test/utk/conus/10m/AL/drainage_basins.zip already exists. Moving to next terrain parameter.\n"
     ]
    }
   ],
   "source": [
    "tools.download(dataset, state, parameters, storage_directory)"
   ]
  },
  {
   "cell_type": "markdown",
   "id": "1d911b03-3f2c-40c3-b821-d8d5f20d4f08",
   "metadata": {},
   "source": [
    "## Visualize Terrain Parameters\n",
    "\n",
    "Visualize the data. Note that shapefile visualization is not currently supported."
   ]
  },
  {
   "cell_type": "code",
   "execution_count": null,
   "id": "c5f86e93-9c34-46ac-9469-af6ba44c0a74",
   "metadata": {},
   "outputs": [
    {
     "name": "stdout",
     "output_type": "stream",
     "text": [
      "2025-06-04 15:13:30,940 dashboard could not be initialized No module named 'ipywidgets_bokeh'\n",
      "2025-06-04 15:13:31,026 Starting Bokeh server version 3.7.3 (running on Tornado 6.4.2)\n",
      "2025-06-04 15:13:31,027 User authentication hooks NOT provided (default user enabled)\n",
      "2025-06-04 15:13:31,028 Bokeh app running at: http://localhost:5006/dashboard\n",
      "2025-06-04 15:13:31,028 Starting Bokeh server with process id: 1542582\n",
      "/home/exouser/anaconda3/envs/geotiled/lib/python3.12/site-packages/panel/io/reload.py:139: FutureWarning: --dev and --autoreload functionality now depends on the watchfiles library. In future versions autoreload will not work without watchfiles being installed. Since it provides a much better user experience consider installing it today.\n",
      "  warnings.warn(\n"
     ]
    }
   ],
   "source": [
    "!panel serve dashboard.py --dev --show"
   ]
  },
  {
   "cell_type": "markdown",
   "id": "04fbb230-321f-4f68-b7ac-d7198dbe0bb6",
   "metadata": {},
   "source": [
    "#"
   ]
  }
 ],
 "metadata": {
  "kernelspec": {
   "display_name": "Python 3 (ipykernel)",
   "language": "python",
   "name": "python3"
  },
  "language_info": {
   "codemirror_mode": {
    "name": "ipython",
    "version": 3
   },
   "file_extension": ".py",
   "mimetype": "text/x-python",
   "name": "python",
   "nbconvert_exporter": "python",
   "pygments_lexer": "ipython3",
   "version": "3.12.8"
  }
 },
 "nbformat": 4,
 "nbformat_minor": 5
}

{
 "cells": [
  {
   "cell_type": "markdown",
   "id": "8f792deb-e1e3-401a-b40b-b8eda6baf142",
   "metadata": {},
   "source": [
    "# eScience Performance Analysis Results\n",
    "\n",
    "The following notebook can be used to run the exact same tests used for generating the results in the eScience 2025 GEOtiled paper submission.\n",
    "\n",
    "Note that results may not be identical to the paper due to the nature of the machine you run on and other background tasks shared on the machine, along with the fact that this version provides friendly user interaction with Jupyter, as the previous test were done by running bash scripts in the background. Therefore, axis limit values may need to be updated to see full results.\n",
    "\n",
    "Some tests will take very long to run due to using large input data (up to a few days), so it is recommended to run this notebook in the background.\n",
    "\n",
    "All results gathered here were run on a VM with 64 CPU cores and 500 GB, so ensure these minimum requirements are met to reproduce results.\n",
    "\n",
    "## Initialization\n",
    "\n",
    "The below cells import requires libraries and other initializations and should be ran before the rest of the notebook."
   ]
  },
  {
   "cell_type": "code",
   "execution_count": null,
   "id": "c68c5f25-e5e3-41e5-b561-b50a14f616bb",
   "metadata": {},
   "outputs": [],
   "source": [
    "from pathlib import Path\n",
    "import geotiled\n",
    "import tools"
   ]
  },
  {
   "cell_type": "markdown",
   "id": "4fbd1b91-00f8-4262-af79-7cd50ba575ca",
   "metadata": {},
   "source": [
    "Ensure to set the working directory to a place where there is at least 1 TB of available space."
   ]
  },
  {
   "cell_type": "code",
   "execution_count": null,
   "id": "c7bda90d-c806-4a30-85e6-2b6e0c7c56d7",
   "metadata": {},
   "outputs": [],
   "source": [
    "# Set working directory\n",
    "working_directory = '/media/volume/gabriel-geotiled/full_test'\n",
    "geotiled.set_working_directory(working_directory)\n",
    "\n",
    "# Create folder to store memory logs\n",
    "Path('mem_logs').mkdir(parents=True, exist_ok=True)\n",
    "\n",
    "# Create folder to store all graph images\n",
    "Path('imgs').mkdir(parents=True, exist_ok=True)"
   ]
  },
  {
   "cell_type": "markdown",
   "id": "927db25b-ee98-428c-8b57-097b3f4fdf03",
   "metadata": {},
   "source": [
    "## Data Curation\n",
    "\n",
    "This section downloads and preprocesses all data used for testing."
   ]
  },
  {
   "cell_type": "code",
   "execution_count": null,
   "id": "0a33a509-73c1-479e-9646-fc17274c0409",
   "metadata": {},
   "outputs": [],
   "source": [
    "!{tools.get_file_directory()}/data_preprocessing_files/start.sh"
   ]
  },
  {
   "cell_type": "markdown",
   "id": "5f9db008-fa41-4851-9220-34777c04ee96",
   "metadata": {},
   "source": [
    "## Optimization Test\n",
    "\n",
    "The following test is used to generate results similar to those in Table II of the eScience paper. "
   ]
  },
  {
   "cell_type": "code",
   "execution_count": null,
   "id": "4fdd9232-1533-43e1-8b0e-e09de35cc521",
   "metadata": {},
   "outputs": [],
   "source": [
    "!{tools.get_file_directory()}/optimization_test_files/start_test.sh"
   ]
  },
  {
   "cell_type": "code",
   "execution_count": null,
   "id": "b16af3d4-8ca0-438d-9143-33d7792506e7",
   "metadata": {},
   "outputs": [],
   "source": [
    "# Get peak memory usage of all tests\n",
    "tools.update_peak_memory_usages('optimization_test_results.csv', test='optimizations')"
   ]
  },
  {
   "cell_type": "code",
   "execution_count": null,
   "id": "18ef6515-64c3-4bcf-8c43-ffa82308ed62",
   "metadata": {},
   "outputs": [],
   "source": [
    "# Average together results of multiple runs\n",
    "tools.average_together_results('optimization_test_results.csv', test='optimizations')"
   ]
  },
  {
   "cell_type": "code",
   "execution_count": null,
   "id": "c4306ed0-e524-4174-8d8a-923fc2a144b2",
   "metadata": {},
   "outputs": [],
   "source": [
    "# Print results of test\n",
    "tools.print_optimization_results('averaged_optimization_test_results.csv')"
   ]
  },
  {
   "cell_type": "markdown",
   "id": "30105a66-727d-4e23-9cec-f321c3001daa",
   "metadata": {},
   "source": [
    "## Chaning Tile Size Test\n",
    "\n",
    "The following test is used to generate results similar to those in Figure 2 of the eScience paper."
   ]
  },
  {
   "cell_type": "code",
   "execution_count": null,
   "id": "e715d358-fc5c-4718-b544-3b0b4980312e",
   "metadata": {},
   "outputs": [],
   "source": [
    "!{tools.get_file_directory()}/tile_size_test_files/start_test.sh"
   ]
  },
  {
   "cell_type": "code",
   "execution_count": null,
   "id": "4577064d-ac35-4530-8554-77ec1806ff37",
   "metadata": {},
   "outputs": [],
   "source": [
    "# Get peak memory usage of all tests\n",
    "tools.update_peak_memory_usages('tile_size_test_results.csv', test='tile_sizes')"
   ]
  },
  {
   "cell_type": "code",
   "execution_count": null,
   "id": "7a09c2d9-d28c-4d00-bb4b-f6590255541d",
   "metadata": {},
   "outputs": [],
   "source": [
    "# Average together results of multiple runs\n",
    "tools.average_together_results('tile_size_test_results.csv', test='tile_sizes')"
   ]
  },
  {
   "cell_type": "code",
   "execution_count": null,
   "id": "1124fe4c-f5ea-40e2-a74d-88d7c7965a51",
   "metadata": {},
   "outputs": [],
   "source": [
    "# Plot results\n",
    "tools.plot_tile_size_results('averaged_tile_size_test_results.csv', 'slope', ylims1=[0,7000], ylims2=[0,300], zoom_ylims=[0,200], use_legend=True)\n",
    "tools.plot_tile_size_results('averaged_tile_size_test_results.csv', 'aspect', ylims1=[0,7000], ylims2=[0,300], zoom_ylims=[0,200])\n",
    "tools.plot_tile_size_results('averaged_tile_size_test_results.csv', 'hillshade', ylims1=[0,7000], ylims2=[0,300], zoom_ylims=[0,200])"
   ]
  },
  {
   "cell_type": "markdown",
   "id": "2f782611-ada8-426f-89e3-cd9abbd4c8fb",
   "metadata": {},
   "source": [
    "## Changing Process Count Test\n",
    "\n",
    "The following test is used to generate results similar to those in Figure 3 of the eScience paper."
   ]
  },
  {
   "cell_type": "code",
   "execution_count": null,
   "id": "0d48e2d5-4052-42ed-b5c2-9ff531c685c0",
   "metadata": {},
   "outputs": [],
   "source": [
    "!{tools.get_file_directory()}/process_count_test_files/start_test.sh"
   ]
  },
  {
   "cell_type": "code",
   "execution_count": null,
   "id": "4b503732-95b6-4e40-8263-1d164a145672",
   "metadata": {},
   "outputs": [],
   "source": [
    "# Average together results of multiple runs\n",
    "tools.average_together_results('process_count_test_results.csv', test='process_counts')"
   ]
  },
  {
   "cell_type": "code",
   "execution_count": null,
   "id": "2372514b-5888-45b0-9cb0-c586f17a47a1",
   "metadata": {},
   "outputs": [],
   "source": [
    "# Plot results\n",
    "tools.plot_process_count_results('averaged_process_count_test_results.csv', 'slope', ylims=[0,350], use_legend=True)\n",
    "tools.plot_process_count_results('averaged_process_count_test_results.csv', 'aspect', ylims=[0,350])\n",
    "tools.plot_process_count_results('averaged_process_count_test_results.csv', 'hillshade', ylims=[0,350])"
   ]
  },
  {
   "cell_type": "markdown",
   "id": "779a2115-b880-46c6-b5de-b40f50b7b3b5",
   "metadata": {},
   "source": [
    "## Changing Topographic Region Test\n",
    "\n",
    "The following test is used to generate results similar to those in Figure 4 and 5 of the eScience paper."
   ]
  },
  {
   "cell_type": "code",
   "execution_count": null,
   "id": "e251dd8f-8cf7-49d6-ba9e-1fecf6eebdc6",
   "metadata": {},
   "outputs": [],
   "source": [
    "!{tools.get_file_directory()}/region_change_test_files/start_test.sh"
   ]
  },
  {
   "cell_type": "code",
   "execution_count": null,
   "id": "3300671b-784e-4a1e-a0cd-658ad9fb48d2",
   "metadata": {},
   "outputs": [],
   "source": [
    "# Get peak memory usage of all tests\n",
    "tools.update_peak_memory_usages('region_change_test_results.csv', test='region_changes')"
   ]
  },
  {
   "cell_type": "code",
   "execution_count": null,
   "id": "28a30b16-bb9b-492b-9fce-f5f8752d5abe",
   "metadata": {},
   "outputs": [],
   "source": [
    "# Average together results of multiple runs\n",
    "tools.average_together_results('region_change_test_results.csv', test='region_changes')"
   ]
  },
  {
   "cell_type": "code",
   "execution_count": null,
   "id": "fa176cff-e683-4027-a8fb-e23ac585df14",
   "metadata": {},
   "outputs": [],
   "source": [
    "# Plot results\n",
    "tools.plot_region_change_results('averaged_region_change_test_results.csv', 'flat', ylims1=[0,35], ylims2=[0,25], use_legend=True)\n",
    "tools.plot_region_change_results('averaged_region_change_test_results.csv', 'mountain', ylims1=[0,35], ylims2=[0,25])"
   ]
  },
  {
   "cell_type": "code",
   "execution_count": null,
   "id": "b7d971d1-5649-47a6-82d1-23f69901caac",
   "metadata": {},
   "outputs": [],
   "source": [
    "# Plot memory usage over time for different terrain parameters\n",
    "tools.print_memory_over_time_results('mem_logs/mountain_GEOtiled-SG_slope_0.csv', xlims=[0,35], ylims=[25,28])\n",
    "tools.print_memory_over_time_results('mem_logs/mountain_GEOtiled-SG_total_catchment_area_0.csv', xlims=[0,35], ylims=[25,28])\n",
    "tools.print_memory_over_time_results('mem_logs/mountain_GEOtiled-SG_specific_catchment_area_0.csv', xlims=[0,35], ylims=[25,28])\n",
    "tools.print_memory_over_time_results('mem_logs/mountain_GEOtiled-SG_channel_network_0.csv', xlims=[0,35], ylims=[25,28])"
   ]
  },
  {
   "cell_type": "markdown",
   "id": "8bddb434-72d1-4c8b-908d-424c6c9ab88d",
   "metadata": {},
   "source": [
    "#"
   ]
  }
 ],
 "metadata": {
  "kernelspec": {
   "display_name": "Python 3 (ipykernel)",
   "language": "python",
   "name": "python3"
  },
  "language_info": {
   "codemirror_mode": {
    "name": "ipython",
    "version": 3
   },
   "file_extension": ".py",
   "mimetype": "text/x-python",
   "name": "python",
   "nbconvert_exporter": "python",
   "pygments_lexer": "ipython3",
   "version": "3.12.8"
  }
 },
 "nbformat": 4,
 "nbformat_minor": 5
}

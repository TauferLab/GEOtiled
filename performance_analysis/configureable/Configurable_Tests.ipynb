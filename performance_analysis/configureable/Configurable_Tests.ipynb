{
 "cells": [
  {
   "cell_type": "markdown",
   "id": "8f792deb-e1e3-401a-b40b-b8eda6baf142",
   "metadata": {},
   "source": [
    "# Configurable Performance Analysis Results\n",
    "\n",
    "The following notebook can be used to run the exact same tests used for generating the results in the eScience 2025 GEOtiled paper submission, but allow configuration of various input parameters to test for other desired cases.\n",
    "\n",
    "Some tests will take very long to run if using large input data (up to a few days), so it is recommended to run this notebook in the background if doing so.\n",
    "\n",
    "In this version of the notebook, the user is responsible for curating their own input data.\n",
    "\n",
    "Ensure a VM of sufficient cores and RAM is used based on the desired input data and results to be collected.\n",
    "\n",
    "## Initialization\n",
    "\n",
    "The below cells import requires libraries and other initializations and should be ran before the rest of the notebook."
   ]
  },
  {
   "cell_type": "code",
   "execution_count": null,
   "id": "c68c5f25-e5e3-41e5-b561-b50a14f616bb",
   "metadata": {},
   "outputs": [],
   "source": [
    "from pathlib import Path\n",
    "import geotiled\n",
    "import tools"
   ]
  },
  {
   "cell_type": "markdown",
   "id": "4fbd1b91-00f8-4262-af79-7cd50ba575ca",
   "metadata": {},
   "source": [
    "Ensure to set the working directory to a place that has sufficient available space."
   ]
  },
  {
   "cell_type": "code",
   "execution_count": null,
   "id": "c7bda90d-c806-4a30-85e6-2b6e0c7c56d7",
   "metadata": {},
   "outputs": [],
   "source": [
    "# Set working directory\n",
    "working_directory = '/media/volume/gabriel-geotiled/configurable_test'\n",
    "geotiled.set_working_directory(working_directory)\n",
    "\n",
    "# Create folder to store memory logs\n",
    "Path('mem_logs').mkdir(parents=True, exist_ok=True)\n",
    "\n",
    "# Create folder to store all graph images\n",
    "Path('imgs').mkdir(parents=True, exist_ok=True)"
   ]
  },
  {
   "cell_type": "markdown",
   "id": "5f9db008-fa41-4851-9220-34777c04ee96",
   "metadata": {},
   "source": [
    "## Optimization Test\n",
    "\n",
    "The following test is used to generates results mimicing those in Table II of the eScience paper. It will always compute with both the unoptimized and optimized versions of GEOtiled."
   ]
  },
  {
   "cell_type": "code",
   "execution_count": null,
   "id": "70b75bfc-d2d6-48d2-b469-3eb62ecfa5e6",
   "metadata": {},
   "outputs": [],
   "source": [
    "# Specify path to input data and correlating tile size to use\n",
    "input_data = {\"ts2500.tif\": 2500,\n",
    "              \"ts15000.tif\": 15000}\n",
    "\n",
    "# Specify desired libraries to use\n",
    "libraries = ['GDAL','SAGA']\n",
    "\n",
    "# Specify desired terrain parameters to compute \n",
    "terrain_parameters = ['slope','aspect','hillshade']\n",
    "\n",
    "# Specify the desired number of concurrent processes\n",
    "concurrent_processes = 64\n",
    "\n",
    "# Specify the number of runs to do\n",
    "runs = 10"
   ]
  },
  {
   "cell_type": "code",
   "execution_count": null,
   "id": "d38fbeff-27b8-4743-a92e-ffa3e460466e",
   "metadata": {},
   "outputs": [],
   "source": [
    "# Run test\n",
    "for method in ['unoptimized','optimized']:\n",
    "    for data in input_data:\n",
    "        for lib in libraries:\n",
    "            for tp in terrain_parameters:\n",
    "                for run in range(runs):\n",
    "                    !{tools.get_file_directory()}/optimization_test_files/start_test.sh {method} {data} {input_data[data]} {lib} {tp} {concurrent_processes} {run}"
   ]
  },
  {
   "cell_type": "code",
   "execution_count": null,
   "id": "b16af3d4-8ca0-438d-9143-33d7792506e7",
   "metadata": {},
   "outputs": [],
   "source": [
    "# Get peak memory usage of all tests\n",
    "tools.update_peak_memory_usages('optimization_test_results.csv', test='optimizations')"
   ]
  },
  {
   "cell_type": "code",
   "execution_count": null,
   "id": "18ef6515-64c3-4bcf-8c43-ffa82308ed62",
   "metadata": {},
   "outputs": [],
   "source": [
    "# Average together results of multiple runs\n",
    "tools.average_together_results('optimization_test_results.csv', test='optimizations')"
   ]
  },
  {
   "cell_type": "code",
   "execution_count": null,
   "id": "c4306ed0-e524-4174-8d8a-923fc2a144b2",
   "metadata": {},
   "outputs": [],
   "source": [
    "# Print results of test\n",
    "tools.print_optimization_results('averaged_optimization_test_results.csv')"
   ]
  },
  {
   "cell_type": "markdown",
   "id": "30105a66-727d-4e23-9cec-f321c3001daa",
   "metadata": {},
   "source": [
    "## Chaning Tile Size Test\n",
    "\n",
    "The following test is used to generate results mimicing those in Figure 2 of the eScience paper. It will always compute results using GDAL, SAGA, GEOtiled-G, and GEOtiled-SG."
   ]
  },
  {
   "cell_type": "code",
   "execution_count": null,
   "id": "3b1fb01a-b1d3-400d-a232-6156b60094c8",
   "metadata": {},
   "outputs": [],
   "source": [
    "# Specify path to input data and correlating tile size to use\n",
    "input_data = {\"ts2500.tif\": 2500,\n",
    "              \"ts5000.tif\": 5000,\n",
    "              \"ts7500.tif\": 7500,\n",
    "              \"ts10000.tif\": 10000,\n",
    "              \"ts12500.tif\": 12500,\n",
    "              \"ts15000.tif\": 15000}\n",
    "\n",
    "# Specify which terrain parameters to compute\n",
    "terrain_parameters = ['slope','aspect','hillshade']\n",
    "\n",
    "# Specify the desired number of concurrent processes\n",
    "concurrent_processes = 64\n",
    "\n",
    "# Specify the number of runs to do\n",
    "runs = 10"
   ]
  },
  {
   "cell_type": "code",
   "execution_count": null,
   "id": "404d83ba-e01f-4f12-b319-92c82a622d7d",
   "metadata": {},
   "outputs": [],
   "source": [
    "# Run test\n",
    "for method in ['GDAL','SAGA','GEOtiled-G','GEOtiled-SG']:\n",
    "    for data in input_data:\n",
    "        for tp in terrain_parameters:\n",
    "            for run in range(runs):\n",
    "                !{tools.get_file_directory()}/tile_size_test_files/start_test.sh {method} {data} {input_data[data]} {tp} {concurrent_processes} {run}"
   ]
  },
  {
   "cell_type": "code",
   "execution_count": null,
   "id": "4577064d-ac35-4530-8554-77ec1806ff37",
   "metadata": {},
   "outputs": [],
   "source": [
    "# Get peak memory usage of all tests\n",
    "tools.update_peak_memory_usages('tile_size_test_results.csv', test='tile_sizes')"
   ]
  },
  {
   "cell_type": "code",
   "execution_count": null,
   "id": "7a09c2d9-d28c-4d00-bb4b-f6590255541d",
   "metadata": {},
   "outputs": [],
   "source": [
    "# Average together results of multiple runs\n",
    "tools.average_together_results('tile_size_test_results.csv', test='tile_sizes')"
   ]
  },
  {
   "cell_type": "code",
   "execution_count": null,
   "id": "1124fe4c-f5ea-40e2-a74d-88d7c7965a51",
   "metadata": {},
   "outputs": [],
   "source": [
    "# Plot results\n",
    "for tp in terrain_parameters:\n",
    "    tools.plot_tile_size_results('averaged_tile_size_test_results.csv', tp, ylims1=[0,300], ylims2=[0,50], zoom_ylims=[0,200], use_legend=True)"
   ]
  },
  {
   "cell_type": "markdown",
   "id": "2f782611-ada8-426f-89e3-cd9abbd4c8fb",
   "metadata": {},
   "source": [
    "## Changing Process Count Test\n",
    "\n",
    "The following test is used to generate results mimicing those in Figure 3 of the eScience paper. It will always compute results using GEOtiled-G and GEOtiled-SG."
   ]
  },
  {
   "cell_type": "code",
   "execution_count": null,
   "id": "e4001cb9-a9b4-4388-9840-728d88ee1c0c",
   "metadata": {},
   "outputs": [],
   "source": [
    "# Specify path to input data and correlating tile size to use\n",
    "input_data = {\"ts2500.tif\": 2500,\n",
    "              \"ts15000.tif\": 15000}\n",
    "\n",
    "# Specify which terrain parameters to compute\n",
    "terrain_parameters = ['slope','aspect','hillshade']\n",
    "\n",
    "# Specify the desired number of concurrent processes to use\n",
    "concurrent_processes = [1, 2, 4, 8, 16, 32, 64]\n",
    "\n",
    "# Specify the number of runs to do\n",
    "runs = 10"
   ]
  },
  {
   "cell_type": "code",
   "execution_count": null,
   "id": "d5fff840-7ec1-4883-b916-c687b49ceebd",
   "metadata": {},
   "outputs": [],
   "source": [
    "# Run test\n",
    "for method in ['GEOtiled-G','GEOtiled-SG']:\n",
    "    for data in input_data:\n",
    "        for tp in terrain_parameters:\n",
    "            for cp in concurrent_processes:\n",
    "                for run in range(runs):\n",
    "                    !{tools.get_file_directory()}/process_count_test_files/start_test.sh {method} {data} {input_data[data]} {tp} {cp} {run}"
   ]
  },
  {
   "cell_type": "code",
   "execution_count": null,
   "id": "4b503732-95b6-4e40-8263-1d164a145672",
   "metadata": {},
   "outputs": [],
   "source": [
    "# Average together results of multiple runs\n",
    "tools.average_together_results('process_count_test_results.csv', test='process_counts')"
   ]
  },
  {
   "cell_type": "code",
   "execution_count": null,
   "id": "2372514b-5888-45b0-9cb0-c586f17a47a1",
   "metadata": {},
   "outputs": [],
   "source": [
    "# Plot results\n",
    "for tp in terrain_parameters:\n",
    "    for data in input_data:\n",
    "        tools.plot_process_count_results('averaged_process_count_test_results.csv', tp, input_data[data], ylims=[0,40], use_legend=True)"
   ]
  },
  {
   "cell_type": "markdown",
   "id": "779a2115-b880-46c6-b5de-b40f50b7b3b5",
   "metadata": {},
   "source": [
    "## Changing Topographic Region Test\n",
    "\n",
    "The following test is used to generate results mimicing those in Figure 4 and 5 of the eScience paper. It will always compute results using GEOtiled-G and GEOtiled-SG. The region characteristics should be specified in the input file name."
   ]
  },
  {
   "cell_type": "code",
   "execution_count": null,
   "id": "be3a3947-872c-4067-a59c-114d24baf21f",
   "metadata": {},
   "outputs": [],
   "source": [
    "# Specify path to input data and correlating tile size to use\n",
    "input_data = {\"flat.tif\": 2500,\n",
    "              \"mountain.tif\": 2500}\n",
    "\n",
    "# Specify which terrain parameters to compute\n",
    "terrain_parameters = [\"hillshade\",\"slope\",\"aspect\",\"plan_curvature\",\"profile_curvature\",\"convergence_index\",\"filled_depressions\",\"watershed_basins\",\n",
    "                      \"total_catchment_area\",\"flow_width\",\"specific_catchment_area\",\"channel_network\",\"drainage_basins\",\"flow_direction\",\"flow_connectivity\"]\n",
    "\n",
    "# Specify the desired number of concurrent processes\n",
    "concurrent_processes = 64\n",
    "\n",
    "# Specify the number of runs to do\n",
    "runs = 10"
   ]
  },
  {
   "cell_type": "code",
   "execution_count": null,
   "id": "8dbe45ac-19ee-40d1-a47c-21a2852e3912",
   "metadata": {},
   "outputs": [],
   "source": [
    "# Run test\n",
    "for method in ['GEOtiled-G','GEOtiled-SG']:\n",
    "    for data in input_data:\n",
    "        for tp in terrain_parameters:\n",
    "            for run in range(runs):\n",
    "                !{tools.get_file_directory()}/region_change_test_files/start_test.sh {method} {data.replace('.tif','')} {input_data[data]} {tp} {concurrent_processes} {run}"
   ]
  },
  {
   "cell_type": "code",
   "execution_count": null,
   "id": "3300671b-784e-4a1e-a0cd-658ad9fb48d2",
   "metadata": {},
   "outputs": [],
   "source": [
    "# Get peak memory usage of all tests\n",
    "tools.update_peak_memory_usages('region_change_test_results.csv', test='region_changes')"
   ]
  },
  {
   "cell_type": "code",
   "execution_count": null,
   "id": "28a30b16-bb9b-492b-9fce-f5f8752d5abe",
   "metadata": {},
   "outputs": [],
   "source": [
    "# Average together results of multiple runs\n",
    "tools.average_together_results('region_change_test_results.csv', test='region_changes')"
   ]
  },
  {
   "cell_type": "code",
   "execution_count": null,
   "id": "fa176cff-e683-4027-a8fb-e23ac585df14",
   "metadata": {},
   "outputs": [],
   "source": [
    "# Plot results\n",
    "for data in input_data:\n",
    "    tools.plot_region_change_results('averaged_region_change_test_results.csv', data.replace('.tif',''), input_data[data], ylims1=[0,35], ylims2=[0,25], use_legend=True)"
   ]
  },
  {
   "cell_type": "code",
   "execution_count": null,
   "id": "b7d971d1-5649-47a6-82d1-23f69901caac",
   "metadata": {},
   "outputs": [],
   "source": [
    "# Plot memory usage over time for different terrain parameters\n",
    "tools.print_memory_over_time_results('mem_logs/mountain_GEOtiled-SG_slope_2500_0.csv', xlims=[0,35], ylims=[25,28])\n",
    "tools.print_memory_over_time_results('mem_logs/mountain_GEOtiled-SG_total_catchment_area_2500_0.csv', xlims=[0,35], ylims=[25,28])\n",
    "tools.print_memory_over_time_results('mem_logs/mountain_GEOtiled-SG_specific_catchment_area_2500_0.csv', xlims=[0,35], ylims=[25,28])\n",
    "tools.print_memory_over_time_results('mem_logs/mountain_GEOtiled-SG_channel_network_2500_0.csv', xlims=[0,35], ylims=[25,28])"
   ]
  },
  {
   "cell_type": "markdown",
   "id": "8bddb434-72d1-4c8b-908d-424c6c9ab88d",
   "metadata": {},
   "source": [
    "#"
   ]
  }
 ],
 "metadata": {
  "kernelspec": {
   "display_name": "Python 3 (ipykernel)",
   "language": "python",
   "name": "python3"
  },
  "language_info": {
   "codemirror_mode": {
    "name": "ipython",
    "version": 3
   },
   "file_extension": ".py",
   "mimetype": "text/x-python",
   "name": "python",
   "nbconvert_exporter": "python",
   "pygments_lexer": "ipython3",
   "version": "3.12.8"
  }
 },
 "nbformat": 4,
 "nbformat_minor": 5
}

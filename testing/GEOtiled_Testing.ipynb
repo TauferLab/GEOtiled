{
 "cells": [
  {
   "cell_type": "code",
   "execution_count": null,
   "id": "cb39abdd-632f-490c-8e24-0b27862e8838",
   "metadata": {},
   "outputs": [],
   "source": [
    "import geotiledtests as gt"
   ]
  },
  {
   "cell_type": "code",
   "execution_count": null,
   "id": "d91ae196-72d2-4924-bd9e-b89a60c6c767",
   "metadata": {},
   "outputs": [],
   "source": []
  }
 ],
 "metadata": {
  "kernelspec": {
   "display_name": "Python 3 (ipykernel)",
   "language": "python",
   "name": "python3"
  },
  "language_info": {
   "codemirror_mode": {
    "name": "ipython",
    "version": 3
   },
   "file_extension": ".py",
   "mimetype": "text/x-python",
   "name": "python",
   "nbconvert_exporter": "python",
   "pygments_lexer": "ipython3",
   "version": "3.12.3"
  }
 },
 "nbformat": 4,
 "nbformat_minor": 5
}
